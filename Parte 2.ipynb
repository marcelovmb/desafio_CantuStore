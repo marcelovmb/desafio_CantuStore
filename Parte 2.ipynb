{
 "cells": [
  {
   "cell_type": "code",
   "execution_count": 0,
   "metadata": {
    "application/vnd.databricks.v1+cell": {
     "cellMetadata": {
      "byteLimit": 2048000,
      "rowLimit": 10000
     },
     "inputWidgets": {},
     "nuid": "cc6434ac-e037-42e6-81c7-128d1b09cb10",
     "showTitle": true,
     "title": "Quais os produtos que mais tiveram carrinhos abandonados?"
    }
   },
   "outputs": [],
   "source": [
    "#Quais os produtos que mais tiveram carrinhos abandonados?\n",
    "#Segue abaixo Script"
   ]
  },
  {
   "cell_type": "code",
   "execution_count": 0,
   "metadata": {
    "application/vnd.databricks.v1+cell": {
     "cellMetadata": {
      "byteLimit": 2048000,
      "rowLimit": 10000
     },
     "inputWidgets": {},
     "nuid": "5377c137-ae7b-41e7-a37f-d945a97939af",
     "showTitle": true,
     "title": "Importando bibliotecas"
    }
   },
   "outputs": [],
   "source": [
    "#Importando bibliotecas\n",
    "from pyspark.sql import SparkSession\n",
    "from pyspark.sql.functions import col, when, least, greatest,month, year, col, lag, when,min,sum, struct,count, concat_ws\n",
    "from pyspark.sql.window import Window\n",
    "from pyspark.sql.types import StringType"
   ]
  },
  {
   "cell_type": "code",
   "execution_count": 0,
   "metadata": {
    "application/vnd.databricks.v1+cell": {
     "cellMetadata": {
      "byteLimit": 2048000,
      "implicitDf": true,
      "rowLimit": 10000
     },
     "inputWidgets": {},
     "nuid": "980e471f-41ca-41c0-a7bf-3c9fdcac9104",
     "showTitle": true,
     "title": "Carrega as tabelas"
    }
   },
   "outputs": [],
   "source": [
    "#Carrega as tabelas\n",
    "carts = spark.table(\"default.tb_carts\")\n",
    "cart_entries = spark.table(\"default.tb_cartentries\")"
   ]
  },
  {
   "cell_type": "code",
   "execution_count": 0,
   "metadata": {
    "application/vnd.databricks.v1+cell": {
     "cellMetadata": {
      "byteLimit": 2048000,
      "rowLimit": 10000
     },
     "inputWidgets": {},
     "nuid": "c1aa1dd4-5c4b-481c-a974-ec1b9947949d",
     "showTitle": false,
     "title": ""
    }
   },
   "outputs": [
    {
     "output_type": "execute_result",
     "data": {
      "text/plain": [
       "16047042"
      ]
     },
     "execution_count": 4,
     "metadata": {},
     "output_type": "execute_result"
    }
   ],
   "source": [
    "# Filtra carrinhos que consideramos como \"abandonados\"\n",
    "# (Ajuste este filtro conforme sua definição de carrinho abandonado)\n",
    "abandoned_carts = carts.filter(carts.p_deliverystatus.isNull())\n",
    "abandoned_carts.count()"
   ]
  },
  {
   "cell_type": "code",
   "execution_count": 0,
   "metadata": {
    "application/vnd.databricks.v1+cell": {
     "cellMetadata": {
      "byteLimit": 2048000,
      "rowLimit": 10000
     },
     "inputWidgets": {},
     "nuid": "1dd2499c-6b3b-4223-8b04-c9ff6063f597",
     "showTitle": false,
     "title": ""
    }
   },
   "outputs": [],
   "source": [
    "# Junta carrinhos abandonados com suas entradas\n",
    "abandoned_products = abandoned_carts.join(cart_entries, carts.PK == cart_entries.p_order)"
   ]
  },
  {
   "cell_type": "code",
   "execution_count": 0,
   "metadata": {
    "application/vnd.databricks.v1+cell": {
     "cellMetadata": {
      "byteLimit": 2048000,
      "rowLimit": 10000
     },
     "inputWidgets": {},
     "nuid": "d87f3ed7-b7fd-4615-bb8c-f65e2e67e53a",
     "showTitle": false,
     "title": ""
    }
   },
   "outputs": [],
   "source": [
    "# Agrupa por produto e contar\n",
    "product_counts = abandoned_products.groupBy(\"p_product\").count().orderBy(\"count\", ascending=False)"
   ]
  },
  {
   "cell_type": "code",
   "execution_count": 0,
   "metadata": {
    "application/vnd.databricks.v1+cell": {
     "cellMetadata": {
      "byteLimit": 2048000,
      "rowLimit": 10000
     },
     "inputWidgets": {},
     "nuid": "eaeb5923-93d1-4676-bb7e-823143c1666f",
     "showTitle": true,
     "title": ""
    }
   },
   "outputs": [
    {
     "output_type": "stream",
     "name": "stdout",
     "output_type": "stream",
     "text": [
      "+-----------------+-----+\n|        p_product|count|\n+-----------------+-----+\n|8.797231284225E12| 1773|\n|8.803303194625E12| 1137|\n|8.806227116033E12| 1095|\n|8.806415695873E12|  997|\n|8.810544365569E12|  658|\n|8.803803037697E12|  594|\n|8.802941566977E12|  562|\n|8.797239410689E12|  544|\n|8.804189536257E12|  538|\n|8.797220405249E12|  530|\n|8.810874339329E12|  495|\n|8.797576757249E12|  476|\n|8.810511007745E12|  470|\n|8.804192780289E12|  456|\n|8.805407326209E12|  396|\n|8.798170808321E12|  382|\n|8.806483427329E12|  347|\n|8.803303227393E12|  334|\n|8.808349663233E12|  327|\n|8.802941796353E12|  318|\n+-----------------+-----+\nonly showing top 20 rows\n\n"
     ]
    }
   ],
   "source": [
    "# Resposta\n",
    "# Mostra os produtos que mais tiveram carrinhos abandonados\n",
    "product_counts.show()"
   ]
  },
  {
   "cell_type": "code",
   "execution_count": 0,
   "metadata": {
    "application/vnd.databricks.v1+cell": {
     "cellMetadata": {
      "byteLimit": 2048000,
      "rowLimit": 10000
     },
     "inputWidgets": {},
     "nuid": "8ea18836-625c-4a5e-b214-44aa15de159a",
     "showTitle": true,
     "title": " Quais as duplas de produtos em conjunto que mais tiveram carrinhos abandonados?"
    }
   },
   "outputs": [],
   "source": [
    "# Quais as duplas de produtos em conjunto que mais tiveram carrinhos abandonados?\n",
    "# Segue script abaixo"
   ]
  },
  {
   "cell_type": "code",
   "execution_count": 0,
   "metadata": {
    "application/vnd.databricks.v1+cell": {
     "cellMetadata": {
      "byteLimit": 2048000,
      "rowLimit": 10000
     },
     "inputWidgets": {},
     "nuid": "4ddab1d2-86b4-4931-ba13-ac3ba150ff25",
     "showTitle": false,
     "title": ""
    }
   },
   "outputs": [],
   "source": [
    "# Filtrar carrinhos que consideramos como \"abandonados\"\n",
    "abandoned_carts_df = carts.filter(carts.p_deliverystatus.isNull())"
   ]
  },
  {
   "cell_type": "code",
   "execution_count": 0,
   "metadata": {
    "application/vnd.databricks.v1+cell": {
     "cellMetadata": {
      "byteLimit": 2048000,
      "rowLimit": 10000
     },
     "inputWidgets": {},
     "nuid": "62fd7613-7c3d-43e8-9fbf-4ed8d6469fa4",
     "showTitle": false,
     "title": ""
    }
   },
   "outputs": [],
   "source": [
    "# Juntar carrinhos abandonados com suas entradas\n",
    "entries_in_abandoned_carts = abandoned_carts_df.join(cart_entries, carts.PK == cart_entries.p_order)"
   ]
  },
  {
   "cell_type": "code",
   "execution_count": 0,
   "metadata": {
    "application/vnd.databricks.v1+cell": {
     "cellMetadata": {
      "byteLimit": 2048000,
      "rowLimit": 10000
     },
     "inputWidgets": {},
     "nuid": "92ccff8a-0b95-4f09-9d7c-e9f3b89e1f50",
     "showTitle": false,
     "title": ""
    }
   },
   "outputs": [],
   "source": [
    "#join para encontrar pares de produtos no mesmo carrinho\n",
    "product_pairs = entries_in_abandoned_carts.alias(\"a\").join(entries_in_abandoned_carts.alias(\"b\"), \n",
    "                                                  (col(\"a.p_order\") == col(\"b.p_order\")) & \n",
    "                                                  (col(\"a.p_product\") != col(\"b.p_product\")))"
   ]
  },
  {
   "cell_type": "code",
   "execution_count": 0,
   "metadata": {
    "application/vnd.databricks.v1+cell": {
     "cellMetadata": {
      "byteLimit": 2048000,
      "rowLimit": 10000
     },
     "inputWidgets": {},
     "nuid": "9992c13f-06a5-44e9-9993-bac1a7326181",
     "showTitle": false,
     "title": ""
    }
   },
   "outputs": [],
   "source": [
    "# Para evitar duplicatas (produto X com produto Y é o mesmo que produto Y com produto X), \n",
    "# ordenando os pares\n",
    "product_pairs = product_pairs.withColumn(\"product1\", least(col(\"a.p_product\"), col(\"b.p_product\")))\n",
    "product_pairs = product_pairs.withColumn(\"product2\", greatest(col(\"a.p_product\"), col(\"b.p_product\")))"
   ]
  },
  {
   "cell_type": "code",
   "execution_count": 0,
   "metadata": {
    "application/vnd.databricks.v1+cell": {
     "cellMetadata": {
      "byteLimit": 2048000,
      "rowLimit": 10000
     },
     "inputWidgets": {},
     "nuid": "eb8015d8-065b-46ca-8edb-302cccc88e9a",
     "showTitle": false,
     "title": ""
    }
   },
   "outputs": [],
   "source": [
    "# Agrupar por duplas de produtos e contar\n",
    "pair_counts = product_pairs.groupBy(\"product1\", \"product2\").count().orderBy(\"count\", ascending=False)"
   ]
  },
  {
   "cell_type": "code",
   "execution_count": 0,
   "metadata": {
    "application/vnd.databricks.v1+cell": {
     "cellMetadata": {
      "byteLimit": 2048000,
      "rowLimit": 10000
     },
     "inputWidgets": {},
     "nuid": "24dd5bb7-e14e-4a64-a226-e83212b8c996",
     "showTitle": false,
     "title": ""
    }
   },
   "outputs": [
    {
     "output_type": "stream",
     "name": "stdout",
     "output_type": "stream",
     "text": [
      "+-----------------+-----------------+-----+\n|         product1|         product2|count|\n+-----------------+-----------------+-----+\n|8.797983080449E12|8.800160120833E12| 2702|\n|8.800160153601E12|8.801372176385E12| 2288|\n|8.797234200577E12|8.799375851521E12| 1934|\n|8.797164437505E12|8.800160120833E12| 1444|\n|8.800160186369E12|8.802909716481E12| 1444|\n|8.797304815617E12|8.800160284673E12| 1412|\n|8.797329063937E12|8.800160120833E12| 1152|\n|8.797220864001E12|8.799375851521E12| 1024|\n|8.797220962305E12|8.797277388801E12| 1006|\n|8.797231284225E12|8.797272408065E12|  994|\n|8.797277388801E12|8.801370537985E12|  978|\n|8.797982916609E12|8.800160153601E12|  968|\n|8.797164437505E12|8.797983080449E12|  928|\n|8.801370636289E12|8.802941698049E12|  928|\n|8.797329293313E12|8.801371226113E12|  896|\n|8.797983014913E12|8.797983080449E12|  888|\n|8.797145726977E12|8.801372176385E12|  886|\n|8.797246619649E12|8.800160153601E12|  876|\n|8.800160120833E12|8.800160284673E12|  874|\n|8.797234200577E12|8.800160874497E12|  870|\n+-----------------+-----------------+-----+\nonly showing top 20 rows\n\n"
     ]
    }
   ],
   "source": [
    "# Mostrar as duplas de produtos que mais tiveram carrinhos abandonados\n",
    "pair_counts.show()"
   ]
  },
  {
   "cell_type": "code",
   "execution_count": 0,
   "metadata": {
    "application/vnd.databricks.v1+cell": {
     "cellMetadata": {
      "byteLimit": 2048000,
      "rowLimit": 10000
     },
     "inputWidgets": {},
     "nuid": "e002249a-271c-45e5-9d87-e800f3b7c811",
     "showTitle": true,
     "title": "- Quais produtos tiveram um aumento de abandono?"
    }
   },
   "outputs": [],
   "source": [
    "# Quais produtos tiveram um aumento de abandono?\n",
    "#Segue abaixo\n"
   ]
  },
  {
   "cell_type": "code",
   "execution_count": 0,
   "metadata": {
    "application/vnd.databricks.v1+cell": {
     "cellMetadata": {
      "byteLimit": 2048000,
      "rowLimit": 10000
     },
     "inputWidgets": {},
     "nuid": "5fb29cfa-99b9-445c-9eb5-6cdcf0f9b1f3",
     "showTitle": false,
     "title": ""
    }
   },
   "outputs": [],
   "source": [
    "# Extrai mês e ano da data de criação do carrinho\n",
    "entries_with_month_year = entries_in_abandoned_carts.withColumn(\"year\", year(col(\"tb_carts.createdTS\"))).withColumn(\"month\", month(col(\"tb_carts.createdTS\")))\n"
   ]
  },
  {
   "cell_type": "code",
   "execution_count": 0,
   "metadata": {
    "application/vnd.databricks.v1+cell": {
     "cellMetadata": {
      "byteLimit": 2048000,
      "rowLimit": 10000
     },
     "inputWidgets": {},
     "nuid": "bf6064c8-094c-4b90-8aed-73b4eb4b1914",
     "showTitle": false,
     "title": ""
    }
   },
   "outputs": [],
   "source": [
    "# Conta abandonos por produto e mês/ano\n",
    "monthly_abandon_counts = entries_with_month_year.groupBy(\"p_product\", \"year\", \"month\").count()"
   ]
  },
  {
   "cell_type": "code",
   "execution_count": 0,
   "metadata": {
    "application/vnd.databricks.v1+cell": {
     "cellMetadata": {
      "byteLimit": 2048000,
      "rowLimit": 10000
     },
     "inputWidgets": {},
     "nuid": "3b70fd19-d69c-40eb-be0e-0bfae779492b",
     "showTitle": false,
     "title": ""
    }
   },
   "outputs": [],
   "source": [
    "# Ordena e calcular a diferença de abandono entre os meses\n",
    "windowSpec = Window.partitionBy(\"p_product\").orderBy(\"year\", \"month\")\n",
    "monthly_abandon_counts = monthly_abandon_counts.withColumn(\"prev_month_count\", lag(\"count\").over(windowSpec))\n",
    "monthly_abandon_counts = monthly_abandon_counts.withColumn(\"diff\", col(\"count\") - col(\"prev_month_count\"))"
   ]
  },
  {
   "cell_type": "code",
   "execution_count": 0,
   "metadata": {
    "application/vnd.databricks.v1+cell": {
     "cellMetadata": {
      "byteLimit": 2048000,
      "rowLimit": 10000
     },
     "inputWidgets": {},
     "nuid": "39f1d4f4-1334-4ee4-9625-1cb54b32e9ca",
     "showTitle": false,
     "title": ""
    }
   },
   "outputs": [],
   "source": [
    "# Filtra produtos que tiveram aumento no abandono\n",
    "increased_abandon = monthly_abandon_counts.filter(col(\"diff\") > 0)"
   ]
  },
  {
   "cell_type": "code",
   "execution_count": 0,
   "metadata": {
    "application/vnd.databricks.v1+cell": {
     "cellMetadata": {
      "byteLimit": 2048000,
      "rowLimit": 10000
     },
     "inputWidgets": {},
     "nuid": "01ca8c97-d1f6-486d-b3df-3cafa38ecd29",
     "showTitle": false,
     "title": ""
    }
   },
   "outputs": [
    {
     "output_type": "stream",
     "name": "stdout",
     "output_type": "stream",
     "text": [
      "+-----------------+----+-----+-----+----------------+----+\n|        p_product|year|month|count|prev_month_count|diff|\n+-----------------+----+-----+-----+----------------+----+\n|8.797141630977E12|2021|   10|    6|               1|   5|\n|8.797141630977E12|2021|   11|   33|               6|  27|\n|8.797141630977E12|2021|   12|  202|              33| 169|\n|8.797141630977E12|2022|    1|  208|             202|   6|\n|8.797141630977E12|2022|    5|  134|              17| 117|\n|8.797141630977E12|2022|    6|  231|             134|  97|\n|8.797142351873E12|2020|   12|    2|               1|   1|\n|8.797142351873E12|2021|    2|    3|               2|   1|\n|8.797142351873E12|2021|    4|   12|               2|  10|\n|8.797142351873E12|2021|    5|   18|              12|   6|\n|8.797143531521E12|2020|    5|    2|               1|   1|\n|8.797143531521E12|2020|    9|    4|               1|   3|\n|8.797143531521E12|2020|   11|    5|               1|   4|\n|8.797143531521E12|2020|   12|   16|               5|  11|\n|8.797143531521E12|2021|    3|   17|              11|   6|\n|8.797143531521E12|2021|    4|  297|              17| 280|\n|8.797143531521E12|2021|    6|  169|             145|  24|\n|8.797143531521E12|2021|    8|  259|             152| 107|\n|8.797143531521E12|2021|   10|  268|              35| 233|\n|8.797143531521E12|2021|   11|  491|             268| 223|\n+-----------------+----+-----+-----+----------------+----+\nonly showing top 20 rows\n\n"
     ]
    }
   ],
   "source": [
    "# Mostra resultados\n",
    "increased_abandon.show()"
   ]
  },
  {
   "cell_type": "code",
   "execution_count": 0,
   "metadata": {
    "application/vnd.databricks.v1+cell": {
     "cellMetadata": {
      "byteLimit": 2048000,
      "rowLimit": 10000
     },
     "inputWidgets": {},
     "nuid": "c59aec15-94f1-4303-8149-8af2b92ac389",
     "showTitle": true,
     "title": " Quais os produtos novos e a quantidade de carrinhos no seu primeiro mês de lançamento?"
    }
   },
   "outputs": [],
   "source": [
    "# Quais produtos tiveram um aumento de abandono?\n",
    "#Segue abaixo"
   ]
  },
  {
   "cell_type": "code",
   "execution_count": 0,
   "metadata": {
    "application/vnd.databricks.v1+cell": {
     "cellMetadata": {
      "byteLimit": 2048000,
      "rowLimit": 10000
     },
     "inputWidgets": {},
     "nuid": "93d93e10-299c-4ffb-8469-e19adab6cb22",
     "showTitle": false,
     "title": ""
    }
   },
   "outputs": [],
   "source": [
    "# Determina o mês de lançamento de cada produto\n",
    "product_launch_month = entries_in_abandoned_carts.groupBy(\"p_product\").agg(min(col(\"tb_cartentries.createdTS\")).alias(\"launch_date\"))\n",
    "product_launch_month = product_launch_month.withColumn(\"launch_year\", year(col(\"launch_date\"))).withColumn(\"launch_month\", month(col(\"launch_date\")))\n"
   ]
  },
  {
   "cell_type": "code",
   "execution_count": 0,
   "metadata": {
    "application/vnd.databricks.v1+cell": {
     "cellMetadata": {
      "byteLimit": 2048000,
      "rowLimit": 10000
     },
     "inputWidgets": {},
     "nuid": "04f050a8-ec42-4309-bcf7-9fa49fae3b0e",
     "showTitle": false,
     "title": ""
    }
   },
   "outputs": [],
   "source": [
    "# Junta com as entradas do carrinho para contar quantos carrinhos incluíram o produto durante seu mês de lançamento\n",
    "launch_month_entries = entries_in_abandoned_carts.join(product_launch_month, \"p_product\")\n",
    "launch_month_entries = launch_month_entries.filter((col(\"launch_year\") == year(col(\"tb_cartentries.createdTS\"))) & (col(\"launch_month\") == month(col(\"tb_cartentries.createdTS\"))))\n"
   ]
  },
  {
   "cell_type": "code",
   "execution_count": 0,
   "metadata": {
    "application/vnd.databricks.v1+cell": {
     "cellMetadata": {
      "byteLimit": 2048000,
      "rowLimit": 10000
     },
     "inputWidgets": {},
     "nuid": "0f2bd3a8-6a2e-4b05-a167-cd2cb700615f",
     "showTitle": false,
     "title": ""
    }
   },
   "outputs": [],
   "source": [
    "# Conta carrinhos por produto durante seu mês de lançamento\n",
    "product_counts = launch_month_entries.groupBy(\"p_product\").count().orderBy(\"count\", ascending=False)"
   ]
  },
  {
   "cell_type": "code",
   "execution_count": 0,
   "metadata": {
    "application/vnd.databricks.v1+cell": {
     "cellMetadata": {
      "byteLimit": 2048000,
      "rowLimit": 10000
     },
     "inputWidgets": {},
     "nuid": "190fccdd-e4dc-4f1a-b949-5b5b0b66161b",
     "showTitle": false,
     "title": ""
    }
   },
   "outputs": [
    {
     "output_type": "stream",
     "name": "stdout",
     "output_type": "stream",
     "text": [
      "+-----------------+-----+\n|        p_product|count|\n+-----------------+-----+\n|8.797231284225E12| 1773|\n|8.803303194625E12| 1137|\n|8.806227116033E12| 1095|\n|8.806415695873E12|  997|\n|8.810544365569E12|  658|\n|8.803803037697E12|  594|\n|8.802941566977E12|  562|\n|8.797239410689E12|  544|\n|8.804189536257E12|  538|\n|8.797220405249E12|  530|\n|8.810874339329E12|  495|\n|8.797576757249E12|  476|\n|8.810511007745E12|  470|\n|8.804192780289E12|  456|\n|8.805407326209E12|  396|\n|8.798170808321E12|  382|\n|8.806483427329E12|  347|\n|8.803303227393E12|  334|\n|8.808349663233E12|  327|\n|8.802941796353E12|  318|\n+-----------------+-----+\nonly showing top 20 rows\n\n"
     ]
    }
   ],
   "source": [
    "# Mostra resultados\n",
    "product_counts.show()"
   ]
  },
  {
   "cell_type": "code",
   "execution_count": 0,
   "metadata": {
    "application/vnd.databricks.v1+cell": {
     "cellMetadata": {},
     "inputWidgets": {},
     "nuid": "c33f6505-1381-455f-b2a9-6e38e7d1256e",
     "showTitle": true,
     "title": "Quais estados tiveram mais abandonos?"
    }
   },
   "outputs": [],
   "source": [
    "# Quais estados tiveram mais abandonos?\n",
    "#Segue abaixo"
   ]
  },
  {
   "cell_type": "code",
   "execution_count": 0,
   "metadata": {
    "application/vnd.databricks.v1+cell": {
     "cellMetadata": {
      "byteLimit": 2048000,
      "rowLimit": 10000
     },
     "inputWidgets": {},
     "nuid": "a8885501-dee4-4c59-8582-a4b4701311ff",
     "showTitle": false,
     "title": ""
    }
   },
   "outputs": [],
   "source": [
    "# Carrega as tabelas\n",
    "carts = spark.table(\"default.tb_carts\")\n",
    "addresses = spark.table(\"default.tb_addresses\")\n",
    "regions = spark.table(\"default.tb_regions\")  # Supondo que esta tabela contém os nomes dos estados"
   ]
  },
  {
   "cell_type": "code",
   "execution_count": 0,
   "metadata": {
    "application/vnd.databricks.v1+cell": {
     "cellMetadata": {
      "byteLimit": 2048000,
      "rowLimit": 10000
     },
     "inputWidgets": {},
     "nuid": "5e5cceee-6a1f-446f-89e3-f2bf9e2bc4c7",
     "showTitle": false,
     "title": ""
    }
   },
   "outputs": [],
   "source": [
    "# Junta carrinhos abandonados com endereços para obter informações do estado\n",
    "abandoned_with_address = abandoned_carts_df.join(addresses, abandoned_carts_df.p_deliveryaddress == addresses.PK)\n"
   ]
  },
  {
   "cell_type": "code",
   "execution_count": 0,
   "metadata": {
    "application/vnd.databricks.v1+cell": {
     "cellMetadata": {
      "byteLimit": 2048000,
      "rowLimit": 10000
     },
     "inputWidgets": {},
     "nuid": "53324631-5ef3-4eaf-b1f9-ec23ee26c41e",
     "showTitle": false,
     "title": ""
    }
   },
   "outputs": [],
   "source": [
    "# Junta com a tabela de regiões para obter o nome do estado\n",
    "abandoned_with_state = abandoned_with_address.join(regions, abandoned_with_address.p_region == regions.PK)\n"
   ]
  },
  {
   "cell_type": "code",
   "execution_count": 0,
   "metadata": {
    "application/vnd.databricks.v1+cell": {
     "cellMetadata": {
      "byteLimit": 2048000,
      "rowLimit": 10000
     },
     "inputWidgets": {},
     "nuid": "01e05ddc-a4bd-48dd-95ce-c61ccf98ff08",
     "showTitle": false,
     "title": ""
    }
   },
   "outputs": [],
   "source": [
    "# Agrupa por estado e contar abandonos\n",
    "state_abandon_counts = abandoned_with_state.groupBy(regions.p_isocode).count().orderBy(\"count\", ascending=False)  # Supondo que p_isocode seja o nome do estado\n"
   ]
  },
  {
   "cell_type": "code",
   "execution_count": 0,
   "metadata": {
    "application/vnd.databricks.v1+cell": {
     "cellMetadata": {
      "byteLimit": 2048000,
      "rowLimit": 10000
     },
     "inputWidgets": {},
     "nuid": "a0a4a692-02a9-4064-ada4-b9e242a490de",
     "showTitle": false,
     "title": ""
    }
   },
   "outputs": [
    {
     "output_type": "stream",
     "name": "stdout",
     "output_type": "stream",
     "text": [
      "+---------+-----+\n|p_isocode|count|\n+---------+-----+\n|    BR-SP|34489|\n|    BR-MG|23590|\n|    BR-RJ|12139|\n|    BR-BA| 9361|\n|    BR-RS| 8311|\n|    BR-PR| 8238|\n|    BR-SC| 7282|\n|    BR-GO| 6932|\n|    BR-ES| 6041|\n|    BR-PE| 4471|\n|    BR-CE| 4323|\n|    BR-DF| 3466|\n|    BR-RN| 2456|\n|    BR-PB| 2184|\n|    BR-MT| 2000|\n|    BR-AL| 1634|\n|    BR-MA| 1591|\n|    BR-SE| 1387|\n|    BR-MS| 1386|\n|    BR-PI| 1339|\n+---------+-----+\nonly showing top 20 rows\n\n"
     ]
    }
   ],
   "source": [
    "# Mostra os estados com mais abandonos\n",
    "state_abandon_counts.show()"
   ]
  },
  {
   "cell_type": "code",
   "execution_count": 0,
   "metadata": {
    "application/vnd.databricks.v1+cell": {
     "cellMetadata": {},
     "inputWidgets": {},
     "nuid": "762b29b5-ef80-4164-a923-75e449508573",
     "showTitle": true,
     "title": "Relatorios"
    }
   },
   "outputs": [],
   "source": [
    "# Relatorios\n",
    "\n",
    "# 1-Gere um relatório dos produtos, mês a mês informando a quantidade de carrinhos abandonados, \n",
    "# quantidade de itens abandonados e o valor não faturado;\n",
    "\n",
    "# 2- Gere também, um relatório por data informando a quantidade de carrinhos abandonados, \n",
    "#quantidade de itens abandonados e o valor não faturado."
   ]
  },
  {
   "cell_type": "code",
   "execution_count": 0,
   "metadata": {
    "application/vnd.databricks.v1+cell": {
     "cellMetadata": {
      "byteLimit": 2048000,
      "rowLimit": 10000
     },
     "inputWidgets": {},
     "nuid": "5dfe72f2-0da4-4899-9452-8540797b8017",
     "showTitle": false,
     "title": ""
    }
   },
   "outputs": [],
   "source": [
    "# Carrega as tabelas\n",
    "carts = spark.table(\"default.tb_carts\")\n",
    "cart_entries = spark.table(\"default.tb_cartentries\")"
   ]
  },
  {
   "cell_type": "code",
   "execution_count": 0,
   "metadata": {
    "application/vnd.databricks.v1+cell": {
     "cellMetadata": {
      "byteLimit": 2048000,
      "rowLimit": 10000
     },
     "inputWidgets": {},
     "nuid": "85287df2-aa23-44ef-a43a-2e22dafa78b4",
     "showTitle": false,
     "title": ""
    }
   },
   "outputs": [],
   "source": [
    "# Filtra carrinhos que consideramos como \"abandonados\"\n",
    "abandoned_carts_df = carts.filter(carts.p_deliverystatus.isNull())"
   ]
  },
  {
   "cell_type": "code",
   "execution_count": 0,
   "metadata": {
    "application/vnd.databricks.v1+cell": {
     "cellMetadata": {
      "byteLimit": 2048000,
      "rowLimit": 10000
     },
     "inputWidgets": {},
     "nuid": "72f6cfaa-1872-47e3-893f-70f00e7b7284",
     "showTitle": false,
     "title": ""
    }
   },
   "outputs": [],
   "source": [
    "# Junta carrinhos com suas entradas\n",
    "entries_in_abandoned_carts = abandoned_carts_df.join(cart_entries, carts.PK == cart_entries.p_order)"
   ]
  },
  {
   "cell_type": "code",
   "execution_count": 0,
   "metadata": {
    "application/vnd.databricks.v1+cell": {
     "cellMetadata": {
      "byteLimit": 2048000,
      "rowLimit": 10000
     },
     "inputWidgets": {},
     "nuid": "448fbfff-37ec-4080-bfb9-0ca107a94b8e",
     "showTitle": false,
     "title": ""
    }
   },
   "outputs": [],
   "source": [
    "# Extrai mês e ano da data de criação do carrinho\n",
    "entries_with_month_year = entries_in_abandoned_carts.withColumn(\"year\", year(col(\"tb_carts.createdTS\"))).withColumn(\"month\", month(col(\"tb_carts.createdTS\")))\n"
   ]
  },
  {
   "cell_type": "code",
   "execution_count": 0,
   "metadata": {
    "application/vnd.databricks.v1+cell": {
     "cellMetadata": {
      "byteLimit": 2048000,
      "rowLimit": 10000
     },
     "inputWidgets": {},
     "nuid": "46b120fd-bffc-4942-b0e5-37c6e00ec9bd",
     "showTitle": false,
     "title": ""
    }
   },
   "outputs": [],
   "source": [
    "# Agrupa por produto, mês e ano e calcular as métricas desejadas\n",
    "report_1 = entries_with_month_year.groupBy(\"p_product\", \"year\", \"month\") \\\n",
    "                                .agg(sum(\"tb_cartentries.p_quantity\").alias(\"total_items_abandoned\"),\n",
    "                                     countDistinct(\"tb_carts.PK\").alias(\"total_carts_abandoned\"),\n",
    "                                     sum(\"tb_cartentries.p_totalprice\").alias(\"unbilled_amount\")) \\\n",
    "                                .orderBy(\"p_product\", \"year\", \"month\")"
   ]
  },
  {
   "cell_type": "code",
   "execution_count": 0,
   "metadata": {
    "application/vnd.databricks.v1+cell": {
     "cellMetadata": {
      "byteLimit": 2048000,
      "rowLimit": 10000
     },
     "inputWidgets": {},
     "nuid": "11c6757b-cb88-4691-a1c5-b55e2d4a5841",
     "showTitle": false,
     "title": ""
    }
   },
   "outputs": [
    {
     "output_type": "stream",
     "name": "stdout",
     "output_type": "stream",
     "text": [
      "+-----------------+----+-----+---------------------+---------------------+------------------+\n|        p_product|year|month|total_items_abandoned|total_carts_abandoned|   unbilled_amount|\n+-----------------+----+-----+---------------------+---------------------+------------------+\n|             NULL|2021|   11|                  2.0|                    1|           3399.03|\n|8.797141630977E12|NULL| NULL|                 17.0|                   17|         25489.845|\n|8.797141630977E12|2021|    7|                  3.0|                    3|           4227.39|\n|8.797141630977E12|2021|    8|                  1.0|                    1|           1303.38|\n|8.797141630977E12|2021|    9|                  1.0|                    1|1499.4900000000002|\n|8.797141630977E12|2021|   10|                  6.0|                    6|           8408.61|\n|8.797141630977E12|2021|   11|                 33.0|                   33|43629.795000000006|\n|8.797141630977E12|2021|   12|                202.0|                  202| 264223.6199999999|\n|8.797141630977E12|2022|    1|                208.0|                  208| 274173.7499999999|\n|8.797141630977E12|2022|    2|                 20.0|                   20|29884.860000000004|\n|8.797141630977E12|2022|    3|                 18.0|                   18|          26990.82|\n|8.797141630977E12|2022|    4|                 17.0|                   17|          25416.36|\n|8.797141630977E12|2022|    5|                134.0|                  134|200330.41499999998|\n|8.797141630977E12|2022|    6|                231.0|                  231|345422.61000000016|\n|8.797141630977E12|2022|    7|                141.0|                  141|210723.38999999996|\n|8.797142351873E12|2020|   10|                  1.0|                    1|          1799.505|\n|8.797142351873E12|2020|   11|                  1.0|                    1|          1799.505|\n|8.797142351873E12|2020|   12|                  4.0|                    1|           7198.02|\n|8.797142351873E12|2021|    2|                  3.0|                    2|          5398.515|\n|8.797142351873E12|2021|    3|                  2.0|                    2|           3599.01|\n+-----------------+----+-----+---------------------+---------------------+------------------+\nonly showing top 20 rows\n\n"
     ]
    }
   ],
   "source": [
    "# Mostra o relatório 1\n",
    "report_1.show()"
   ]
  },
  {
   "cell_type": "code",
   "execution_count": 0,
   "metadata": {
    "application/vnd.databricks.v1+cell": {
     "cellMetadata": {
      "byteLimit": 2048000,
      "rowLimit": 10000
     },
     "inputWidgets": {},
     "nuid": "6cadc659-3d1b-4b9d-8e5d-0664f2e118ab",
     "showTitle": false,
     "title": ""
    }
   },
   "outputs": [],
   "source": [
    "# Agrupar por data e calcular as métricas desejadas\n",
    "report_2 = entries_in_abandoned_carts.groupBy(\"tb_carts.createdTS\") \\\n",
    "                                           .agg(sum(\"tb_cartentries.p_quantity\").alias(\"total_items_abandoned\"),\n",
    "                                                countDistinct(\"tb_carts.PK\").alias(\"total_carts_abandoned\"),\n",
    "                                                sum(\"tb_cartentries.p_totalprice\").alias(\"unbilled_amount\")) \\\n",
    "                                           .orderBy(\"tb_carts.createdTS\")\n"
   ]
  },
  {
   "cell_type": "code",
   "execution_count": 0,
   "metadata": {
    "application/vnd.databricks.v1+cell": {
     "cellMetadata": {
      "byteLimit": 2048000,
      "rowLimit": 10000
     },
     "inputWidgets": {},
     "nuid": "8d57c6cd-986f-4369-b382-cb728250d7cb",
     "showTitle": false,
     "title": ""
    }
   },
   "outputs": [
    {
     "output_type": "stream",
     "name": "stdout",
     "output_type": "stream",
     "text": [
      "+--------------------+---------------------+---------------------+--------------------+\n|           createdTS|total_items_abandoned|total_carts_abandoned|     unbilled_amount|\n+--------------------+---------------------+---------------------+--------------------+\n|                NULL|              78529.0|                28758|2.1040910370000228E8|\n|2019-12-16 21:19:...|                  4.0|                    1|             6125.76|\n|2019-12-18 07:47:...|                  4.0|                    1|   8647.199999999999|\n|2019-12-18 20:51:...|                  8.0|                    1|             43847.1|\n|2019-12-22 22:09:...|                  4.0|                    1|            15317.28|\n|2019-12-23 16:23:...|                  4.0|                    1|             9189.54|\n|2019-12-23 16:57:...|                  6.0|                    1|            19327.05|\n|2019-12-25 10:01:...|                 21.0|                    1|          141883.515|\n|2019-12-27 09:48:...|                  4.0|                    1|   40740.92999999999|\n|2019-12-30 10:01:...|                  4.0|                    1|             9436.68|\n|2020-01-03 10:02:...|                  8.0|                    1|             12821.4|\n|2020-01-05 17:32:...|                  5.0|                    1|             6971.76|\n|2020-01-06 08:59:...|                 35.0|                    1|   87221.70000000001|\n|2020-01-09 09:43:...|                  6.0|                    1|   8231.130000000001|\n|2020-01-09 13:53:...|                  2.0|                    1|             6988.41|\n|2020-01-09 14:39:...|                  4.0|                    1|             7657.74|\n|2020-01-09 20:07:...|                  4.0|                    1|             16274.7|\n|2020-01-11 01:22:...|                  8.0|                    1|            17613.18|\n|2020-01-13 08:20:...|                  1.0|                    1|             1448.55|\n|2020-01-13 15:27:...|                 12.0|                    1|            31973.04|\n+--------------------+---------------------+---------------------+--------------------+\nonly showing top 20 rows\n\n"
     ]
    }
   ],
   "source": [
    "# Mostra o relatório\n",
    "report_2.show()"
   ]
  },
  {
   "cell_type": "code",
   "execution_count": 0,
   "metadata": {
    "application/vnd.databricks.v1+cell": {
     "cellMetadata": {},
     "inputWidgets": {},
     "nuid": "9d61462d-aab7-46fb-87ea-7451f563f427",
     "showTitle": true,
     "title": "No final, exporte um arquivo .txt com os 50 carrinhos com os maiores carts.p_totalprice no seguinte  layout:"
    }
   },
   "outputs": [],
   "source": [
    "# No final, exporte um arquivo .txt com os 50 carrinhos com os maiores carts.p_totalprice no seguinte  layout:\n",
    "\n",
    "##  carts.PK|carts.createdTS|carts.p_totalprice|user.p_uid|paymentmodes.p_code|paymentinfos.p_installments|cmss\n",
    "##  itelp.p_name|addresses.p_postalcode|sum(cartentries.p_quantity)|count(cartentries.PK)\n",
    "##  cartentries.p_product|cartentries.p_quantity|cartentries.p_totalprice|\n",
    "##  cartentries.p_product|cartentries.p_quantity|cartentries.p_totalprice|\n",
    "##  cartentries.p_product|cartentries.p_quantity|cartentries.p_totalprice|\n",
    "##  cartentries.p_product|cartentries.p_quantity|cartentries.p_totalprice|\n",
    "##  carts.PK|carts.createdTS|carts.p_totalprice|user.p_uid|paymentmodes.p_code|paymentinfos.p_installments|cmss\n",
    "##  itelp.p_name|addresses.p_postalcode\n",
    "##  cartentries.p_product|cartentries.p_quantity|cartentries.p_totalprice|\n",
    "##  cartentries.p_product|cartentries.p_quantity|cartentries.p_totalprice|\n",
    "##  carts.PK|carts.createdTS|carts.p_totalprice|user.p_uid|paymentmodes.p_code|paymentinfos.p_installments|cmss\n",
    "##  itelp.p_name|addresses.p_postalcode\n",
    "##  cartentries.p_product|cartentries.p_quantity|cartentries.p_totalprice|\n",
    "##  cartentries.p_product|cartentries.p_quantity|cartentries.p_totalprice|\n",
    "##  cartentries.p_product|cartentries.p_quantity|cartentries.p_totalprice|\n"
   ]
  },
  {
   "cell_type": "code",
   "execution_count": 0,
   "metadata": {
    "application/vnd.databricks.v1+cell": {
     "cellMetadata": {
      "byteLimit": 2048000,
      "rowLimit": 10000
     },
     "inputWidgets": {},
     "nuid": "4b662cc5-8893-41ac-a2a9-9ed14853854b",
     "showTitle": false,
     "title": ""
    }
   },
   "outputs": [],
   "source": [
    "# Carrega as tabelas\n",
    "carts = spark.table(\"default.tb_carts\")\n",
    "cart_entries = spark.table(\"default.tb_cartentries\")\n",
    "users = spark.table(\"default.tb_users\")\n",
    "paymentmodes = spark.table(\"default.tb_paymentmodes\")\n",
    "paymentinfos = spark.table(\"default.tb_paymentinfos\")\n",
    "cmssitelp = spark.table(\"default.tb_cmssitelp\")\n",
    "addresses = spark.table(\"default.tb_addresses\")"
   ]
  },
  {
   "cell_type": "code",
   "execution_count": 0,
   "metadata": {
    "application/vnd.databricks.v1+cell": {
     "cellMetadata": {
      "byteLimit": 2048000,
      "rowLimit": 10000
     },
     "inputWidgets": {},
     "nuid": "60133f40-b60f-458a-9d15-addb227b27ec",
     "showTitle": false,
     "title": ""
    }
   },
   "outputs": [],
   "source": [
    "# Junta as tabelas\n",
    "joined_data = (carts.join(cart_entries, carts.PK == cart_entries.p_order)\n",
    "               .join(users, carts.OwnerPkString == users.PK)\n",
    "               .join(paymentmodes, carts.PK == paymentmodes.PK)\n",
    "               .join(paymentinfos, carts.PK == paymentinfos.PK)\n",
    "               .join(cmssitelp, carts.PK == cmssitelp.ITEMPK)\n",
    "               .join(addresses, carts.p_deliveryaddress == addresses.PK))"
   ]
  },
  {
   "cell_type": "code",
   "execution_count": 0,
   "metadata": {
    "application/vnd.databricks.v1+cell": {
     "cellMetadata": {
      "byteLimit": 2048000,
      "rowLimit": 10000
     },
     "inputWidgets": {},
     "nuid": "cdc77372-fbb0-4e28-bfcc-ab2f93d265f4",
     "showTitle": false,
     "title": ""
    }
   },
   "outputs": [],
   "source": [
    "# Agrega e formata os dados\n",
    "aggregated_data = (joined_data.groupBy(carts.PK, carts.createdTS, carts.p_totalprice, users.p_uid, paymentmodes.p_code, paymentinfos.p_installments, cmssitelp.p_name, addresses.p_postalcode)\n",
    "                  .agg(sum(cart_entries.p_quantity).alias(\"total_quantity\"),\n",
    "                       count(cart_entries.PK).alias(\"count_entries\"),\n",
    "                       collect_list(struct(cart_entries.p_product, cart_entries.p_quantity, cart_entries.p_totalprice)).alias(\"entries_data\"))\n",
    "                  .orderBy(carts.p_totalprice, ascending=False)\n",
    "                  .limit(50))"
   ]
  },
  {
   "cell_type": "code",
   "execution_count": 0,
   "metadata": {
    "application/vnd.databricks.v1+cell": {
     "cellMetadata": {
      "byteLimit": 2048000,
      "rowLimit": 10000
     },
     "inputWidgets": {},
     "nuid": "c9949b2d-1824-413a-9fb9-442ef2726152",
     "showTitle": false,
     "title": ""
    }
   },
   "outputs": [],
   "source": [
    "# Converte a coluna entries_data para uma string formatada\n",
    "def format_entries(entries):\n",
    "    return \"|\".join([f\"{entry.p_product}|{entry.p_quantity}|{entry.p_totalprice}\" for entry in entries])\n",
    "\n",
    "format_entries_udf = udf(format_entries, StringType())\n",
    "\n",
    "formatted_data = aggregated_data.withColumn(\"formatted_entries\", format_entries_udf(col(\"entries_data\"))).drop(\"entries_data\")\n"
   ]
  },
  {
   "cell_type": "code",
   "execution_count": 0,
   "metadata": {
    "application/vnd.databricks.v1+cell": {
     "cellMetadata": {
      "byteLimit": 2048000,
      "rowLimit": 10000
     },
     "inputWidgets": {},
     "nuid": "bef27b6b-0c63-4feb-8af9-5e842af26f9c",
     "showTitle": false,
     "title": ""
    }
   },
   "outputs": [],
   "source": [
    "# Exporta para um arquivo .txt\n",
    "(formatted_data.write\n",
    " .option(\"delimiter\", \"|\")\n",
    " .option(\"header\", \"false\")\n",
    " .csv(\"/path/to/output.txt\"))"
   ]
  }
 ],
 "metadata": {
  "application/vnd.databricks.v1+notebook": {
   "dashboards": [],
   "language": "python",
   "notebookMetadata": {
    "mostRecentlyExecutedCommandWithImplicitDF": {
     "commandId": -1,
     "dataframes": [
      "_sqldf"
     ]
    },
    "pythonIndentUnit": 2
   },
   "notebookName": "Desafio CantuStore - Marcelo Victor",
   "widgets": {}
  }
 },
 "nbformat": 4,
 "nbformat_minor": 0
}
